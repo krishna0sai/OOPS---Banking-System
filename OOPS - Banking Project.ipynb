{
 "cells": [
  {
   "cell_type": "code",
   "execution_count": 4,
   "id": "4f02f6ef-fc96-4150-a2e7-24585c682351",
   "metadata": {},
   "outputs": [],
   "source": [
    "class BankAccount:\n",
    "    def __init__(self,acc_no,holder_name,balance=0):\n",
    "        self.acc_no = acc_no\n",
    "        self.holder_name = holder_name\n",
    "        self.__balance = balance\n",
    "    def deposit(self,amount):\n",
    "        if amount > 0:\n",
    "            self.__balance += amount\n",
    "            print(f\"Deposited {amount}. New Balance = {self.__balance}\")\n",
    "        else:\n",
    "            print(\"Invalid deposit amount\")\n",
    "    def withdraw(self,amount):\n",
    "        if 0 < amount <= self.__balance:\n",
    "            self.__balance -= amount\n",
    "            print(f\"Withdrawn {amount}. New Balance = {self.__balance}\")\n",
    "        else:\n",
    "            print(\"Insufficient balance or invalid amount\")\n",
    "    def get_balance(self):\n",
    "        return self.__balance\n",
    "    def get_account_number(self):\n",
    "        return self.acc_no\n",
    "\n",
    "class SavingsAccount(BankAccount):\n",
    "    def __init__(self,acc_no,holder_name,balance=0,interest_rate=0.05):\n",
    "        super().__init__(acc_no, holder_name, balance)\n",
    "        self.interest_rate = interest_rate\n",
    "\n",
    "\n",
    "    def add_interest(self):\n",
    "        interest = self.get_balance() * self.interest_rate\n",
    "        self.deposit(interest)\n",
    "        print(f\"Interest {interest} added.\")\n",
    "       \n",
    "\n",
    "\n",
    "class CurrentAccount(BankAccount):\n",
    "    def __init__(self,acc_no,holder_name,balance=0,overdraft_limit=5000):\n",
    "        super().__init__(acc_no, holder_name, balance)\n",
    "        self.overdraft_limit = overdraft_limit\n",
    "\n",
    "\n",
    "    def withdraw(self,amount):\n",
    "        if amount <= self.get_balance() + self.overdraft_limit:\n",
    "            self.deposit(-amount)\n",
    "            print(f\"Withdrawn {amount} using overdraft facility.\")\n",
    "        else:\n",
    "            print(\"Overdraft limit exceeded.\")        \n"
   ]
  },
  {
   "cell_type": "markdown",
   "id": "e2bef80d-1e66-4fa6-bab2-76aa959ec064",
   "metadata": {},
   "source": [
    "## Q1. Create a SavingsAccount object for Ravi and deposit 2000. What is his new balance?"
   ]
  },
  {
   "cell_type": "code",
   "execution_count": 10,
   "id": "1afbb62f-992f-44ec-9961-19b44e7fc35f",
   "metadata": {},
   "outputs": [],
   "source": [
    "sa1=SavingsAccount(1,'Ravi')"
   ]
  },
  {
   "cell_type": "code",
   "execution_count": 11,
   "id": "40c35fb9-98f3-403a-bacb-9b61aa6002d3",
   "metadata": {},
   "outputs": [
    {
     "name": "stdout",
     "output_type": "stream",
     "text": [
      "Deposited 2000. New Balance = 2000\n"
     ]
    }
   ],
   "source": [
    "sa1.deposit(2000)"
   ]
  },
  {
   "cell_type": "markdown",
   "id": "cda9a3d0-0e2c-47e9-8287-9d50017c2066",
   "metadata": {},
   "source": [
    "----"
   ]
  },
  {
   "cell_type": "markdown",
   "id": "1682798f-98a8-4cf1-8762-0c3868b1bf27",
   "metadata": {},
   "source": [
    "## Q2. Try to withdraw 10000 from Sneha’s SavingsAccount which only has 5000. What happens?"
   ]
  },
  {
   "cell_type": "code",
   "execution_count": 12,
   "id": "86ade36e-1529-47f1-b80c-2bfc30bad5e2",
   "metadata": {},
   "outputs": [],
   "source": [
    "sa2=SavingsAccount(2,'Sneha')"
   ]
  },
  {
   "cell_type": "code",
   "execution_count": 13,
   "id": "4bbd910c-5b90-487a-a53a-4bcb96c96d0d",
   "metadata": {},
   "outputs": [
    {
     "name": "stdout",
     "output_type": "stream",
     "text": [
      "Deposited 5000. New Balance = 5000\n"
     ]
    }
   ],
   "source": [
    "sa2.deposit(5000)"
   ]
  },
  {
   "cell_type": "code",
   "execution_count": 14,
   "id": "f7f193d7-0137-41bf-b80d-ba0b87c5417d",
   "metadata": {},
   "outputs": [
    {
     "data": {
      "text/plain": [
       "5000"
      ]
     },
     "execution_count": 14,
     "metadata": {},
     "output_type": "execute_result"
    }
   ],
   "source": [
    "sa2.get_balance()"
   ]
  },
  {
   "cell_type": "code",
   "execution_count": 15,
   "id": "08475774-5cc6-49a2-ab1c-3e15baa85b59",
   "metadata": {},
   "outputs": [
    {
     "name": "stdout",
     "output_type": "stream",
     "text": [
      "Insufficient balance or invalid amount\n"
     ]
    }
   ],
   "source": [
    "sa2.withdraw(10000)"
   ]
  },
  {
   "cell_type": "markdown",
   "id": "4d410785-c9a9-4d11-8471-7af9e1dc96ec",
   "metadata": {},
   "source": [
    "----"
   ]
  },
  {
   "cell_type": "markdown",
   "id": "e011d0f9-4b62-44a4-b5c2-7d0eb96240cb",
   "metadata": {},
   "source": [
    "## Q3. Add interest to Arjun’s SavingsAccount with balance 10000. What will be his new balance?"
   ]
  },
  {
   "cell_type": "code",
   "execution_count": 16,
   "id": "b83df6f0-d7dd-4da1-b1ee-f1d579731ae0",
   "metadata": {},
   "outputs": [],
   "source": [
    "sa3=SavingsAccount(3,'Arjun')"
   ]
  },
  {
   "cell_type": "code",
   "execution_count": 17,
   "id": "1b979ba1-f1df-427f-80b8-b7bced1a909b",
   "metadata": {},
   "outputs": [
    {
     "name": "stdout",
     "output_type": "stream",
     "text": [
      "Deposited 10000. New Balance = 10000\n"
     ]
    }
   ],
   "source": [
    "sa3.deposit(10000)"
   ]
  },
  {
   "cell_type": "code",
   "execution_count": 23,
   "id": "4008509e-2b56-4bad-9870-806f329fd1c3",
   "metadata": {},
   "outputs": [
    {
     "name": "stdout",
     "output_type": "stream",
     "text": [
      "Deposited 500.0. New Balance = 10500.0\n",
      "Interest 500.0 added.\n"
     ]
    }
   ],
   "source": [
    "sa3.add_interest()"
   ]
  },
  {
   "cell_type": "code",
   "execution_count": 24,
   "id": "9a48e95a-17bf-4f89-bc57-2e37f1eee7ac",
   "metadata": {},
   "outputs": [
    {
     "data": {
      "text/plain": [
       "10500.0"
      ]
     },
     "execution_count": 24,
     "metadata": {},
     "output_type": "execute_result"
    }
   ],
   "source": [
    "sa3.get_balance()"
   ]
  },
  {
   "cell_type": "markdown",
   "id": "35ece573-924e-44e0-bcb3-f38e459bd81a",
   "metadata": {},
   "source": [
    "----"
   ]
  },
  {
   "cell_type": "markdown",
   "id": "2be1d32a-f2a4-4a3e-969c-0c900416320c",
   "metadata": {},
   "source": [
    "## Q4. Create a CurrentAccount for Priya with 2000 and withdraw 6000. Is it allowed? Why?"
   ]
  },
  {
   "cell_type": "code",
   "execution_count": 26,
   "id": "7ead7e30-6fc7-4476-962a-bb3795ce9e34",
   "metadata": {},
   "outputs": [],
   "source": [
    "ca1=CurrentAccount(1,'Priya')"
   ]
  },
  {
   "cell_type": "code",
   "execution_count": 27,
   "id": "ef2bd640-81ac-4a34-9ca8-44f214125689",
   "metadata": {},
   "outputs": [
    {
     "name": "stdout",
     "output_type": "stream",
     "text": [
      "Deposited 2000. New Balance = 2000\n"
     ]
    }
   ],
   "source": [
    "ca1.deposit(2000)"
   ]
  },
  {
   "cell_type": "code",
   "execution_count": 28,
   "id": "52b860bb-25be-4835-ba12-7901ed1de965",
   "metadata": {},
   "outputs": [
    {
     "data": {
      "text/plain": [
       "2000"
      ]
     },
     "execution_count": 28,
     "metadata": {},
     "output_type": "execute_result"
    }
   ],
   "source": [
    "ca1.get_balance()"
   ]
  },
  {
   "cell_type": "code",
   "execution_count": 30,
   "id": "21c7f3f9-9b1b-40be-866c-fb367b195038",
   "metadata": {},
   "outputs": [
    {
     "name": "stdout",
     "output_type": "stream",
     "text": [
      "Invalid deposit amount\n",
      "Withdrawn 6000 using overdraft facility.\n"
     ]
    }
   ],
   "source": [
    "ca1.withdraw(6000)"
   ]
  },
  {
   "cell_type": "markdown",
   "id": "27cf4906-7f74-4cc4-b291-77a5817654b5",
   "metadata": {},
   "source": [
    "----"
   ]
  },
  {
   "cell_type": "markdown",
   "id": "33f5defd-64cf-4392-aa37-681d91096a9a",
   "metadata": {},
   "source": [
    "## Q5. Try to directly access __balance of Meera’s account outside the class. What error do you get?"
   ]
  },
  {
   "cell_type": "code",
   "execution_count": 3,
   "id": "c659eae5-a91d-4a5c-930c-d49fd4304b5f",
   "metadata": {},
   "outputs": [
    {
     "ename": "NameError",
     "evalue": "name 'BankAccount' is not defined",
     "output_type": "error",
     "traceback": [
      "\u001b[1;31m---------------------------------------------------------------------------\u001b[0m",
      "\u001b[1;31mNameError\u001b[0m                                 Traceback (most recent call last)",
      "Cell \u001b[1;32mIn[3], line 1\u001b[0m\n\u001b[1;32m----> 1\u001b[0m ba1\u001b[38;5;241m=\u001b[39mBankAccount(\u001b[38;5;241m1\u001b[39m,\u001b[38;5;124m'\u001b[39m\u001b[38;5;124mMeera\u001b[39m\u001b[38;5;124m'\u001b[39m,\u001b[38;5;241m1000\u001b[39m)\n",
      "\u001b[1;31mNameError\u001b[0m: name 'BankAccount' is not defined"
     ]
    }
   ],
   "source": [
    "b_1 = BankA"
   ]
  },
  {
   "cell_type": "code",
   "execution_count": 1,
   "id": "9ff1787a-f1bf-41b7-bf52-ca8af276e8cb",
   "metadata": {},
   "outputs": [
    {
     "ename": "NameError",
     "evalue": "name 'ba1' is not defined",
     "output_type": "error",
     "traceback": [
      "\u001b[1;31m---------------------------------------------------------------------------\u001b[0m",
      "\u001b[1;31mNameError\u001b[0m                                 Traceback (most recent call last)",
      "Cell \u001b[1;32mIn[1], line 1\u001b[0m\n\u001b[1;32m----> 1\u001b[0m ba1\u001b[38;5;241m.\u001b[39m__balance\n",
      "\u001b[1;31mNameError\u001b[0m: name 'ba1' is not defined"
     ]
    }
   ],
   "source": [
    "ba1.__balance"
   ]
  },
  {
   "cell_type": "markdown",
   "id": "b4d401bb-60bb-423b-99f2-5e33e9f2fe39",
   "metadata": {},
   "source": [
    "## Q6. Which OOPS concept is shown when withdraw() behaves differently for SavingsAccount (Ravi) and CurrentAccount (Priya)?"
   ]
  },
  {
   "cell_type": "code",
   "execution_count": 44,
   "id": "7b22883b-5a25-4a74-9d45-37cb417c9761",
   "metadata": {},
   "outputs": [
    {
     "name": "stdout",
     "output_type": "stream",
     "text": [
      "Withdrawn 500. New Balance = 1500\n"
     ]
    }
   ],
   "source": [
    "sa1.withdraw(500)"
   ]
  },
  {
   "cell_type": "code",
   "execution_count": 45,
   "id": "da21a527-1374-45e2-b48f-6169d2fa88a1",
   "metadata": {},
   "outputs": [
    {
     "name": "stdout",
     "output_type": "stream",
     "text": [
      "Invalid deposit amount\n",
      "Withdrawn 500 using overdraft facility.\n"
     ]
    }
   ],
   "source": [
    "ca1.withdraw(500)"
   ]
  },
  {
   "cell_type": "code",
   "execution_count": null,
   "id": "aff0afbb-40c0-42be-847c-ae9edd811d54",
   "metadata": {},
   "outputs": [],
   "source": []
  }
 ],
 "metadata": {
  "kernelspec": {
   "display_name": "Python 3 (ipykernel)",
   "language": "python",
   "name": "python3"
  },
  "language_info": {
   "codemirror_mode": {
    "name": "ipython",
    "version": 3
   },
   "file_extension": ".py",
   "mimetype": "text/x-python",
   "name": "python",
   "nbconvert_exporter": "python",
   "pygments_lexer": "ipython3",
   "version": "3.13.5"
  }
 },
 "nbformat": 4,
 "nbformat_minor": 5
}
