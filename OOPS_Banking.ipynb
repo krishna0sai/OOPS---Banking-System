{
 "cells": [
  {
   "cell_type": "code",
   "execution_count": 1,
   "id": "af9c9f44-cd1c-4fe5-9270-e5010901f4cc",
   "metadata": {},
   "outputs": [],
   "source": [
    "class BankAccount:\n",
    "    def __init__(self,acc_no,holder_name,balance = 0):\n",
    "        self.acc_no = acc_no\n",
    "        self.holder_name = holder_name\n",
    "        self.__balance = balance\n",
    "\n",
    "    def deposit(self,amount):\n",
    "        if amount > 0 :\n",
    "            self.__balance +=amount\n",
    "            print(f'Deposited {amount}. New Balance = {self.__balance}')\n",
    "        else:\n",
    "            print('Invalid deposit amount')\n",
    "\n",
    "    def withdraw(self,amount):\n",
    "        if 0 < amount <= self.__balance:\n",
    "            self.__balance -= amount\n",
    "            print(f'Withdrawn {amount} . New Balance = {self.__balance}')\n",
    "        else:\n",
    "            print('Insufficient balance or invalid amount')\n",
    "\n",
    "    def get_balance(self):\n",
    "        return self.__balance\n",
    "\n",
    "    def get_account_number(self):\n",
    "        return self.acc_no\n",
    "\n",
    "class SavingsAccount(BankAccount):\n",
    "    def __init__(self,acc_no,holder_name,balance = 0,interest_rate = 0.05):\n",
    "        super().__init__(acc_no,holder_name,balance)\n",
    "        self.interest_rate = interest_rate\n",
    "\n",
    "    def add_interest(self):\n",
    "        interest = self.get_balance() * self.interest_rate\n",
    "        self.deposit(interest)\n",
    "        print(f'Interest {interest} added.')\n",
    "\n",
    "\n",
    "class CurrentAccount(BankAccount):\n",
    "    def __init__(self,acc_no,holder_name,balance=0,overdraft_limit = 5000):\n",
    "        super().__init__(acc_no,holder_name,balance)\n",
    "        self.overdraft_limit = overdraft_limit\n",
    "\n",
    "    def withdraw(self,amount):\n",
    "        if amount <= self.get_balance() + self.overdraft_limit:\n",
    "            self.deposit(-amount)\n",
    "            print(f'Withdrawn {amount} using overdraft facility.')\n",
    "        else:\n",
    "            print('Overdraft limit exceeded.')"
   ]
  },
  {
   "cell_type": "markdown",
   "id": "8548d016-1360-49bc-99bd-d1cfc07c2b36",
   "metadata": {},
   "source": [
    "# TASK\n"
   ]
  },
  {
   "cell_type": "markdown",
   "id": "95c2666e-6352-47e6-b202-626d63530e60",
   "metadata": {},
   "source": [
    "### Q1. Create a SavingsAccount object for Ravi and deposit 2000. What is his new balance?\n",
    "- Hint: Use the deposit() method and then check balance using get_balance().\n"
   ]
  },
  {
   "cell_type": "code",
   "execution_count": 2,
   "id": "6d73b733-08b3-41cd-a619-6e85d39b9451",
   "metadata": {},
   "outputs": [],
   "source": [
    "s_1 = SavingsAccount(1,'Ravi')"
   ]
  },
  {
   "cell_type": "code",
   "execution_count": 3,
   "id": "ee19f639-0e36-4340-9b64-661ed536adf6",
   "metadata": {},
   "outputs": [
    {
     "name": "stdout",
     "output_type": "stream",
     "text": [
      "Deposited 2000. New Balance = 2000\n"
     ]
    }
   ],
   "source": [
    "s_1.deposit(2000)"
   ]
  },
  {
   "cell_type": "code",
   "execution_count": 4,
   "id": "9ce2b846-cf9a-455d-936a-8a1b02f68c43",
   "metadata": {},
   "outputs": [
    {
     "data": {
      "text/plain": [
       "2000"
      ]
     },
     "execution_count": 4,
     "metadata": {},
     "output_type": "execute_result"
    }
   ],
   "source": [
    "s_1.get_balance()"
   ]
  },
  {
   "cell_type": "markdown",
   "id": "99802690-0c63-4528-87e9-12cc41baf716",
   "metadata": {},
   "source": [
    "----"
   ]
  },
  {
   "cell_type": "markdown",
   "id": "7e2c20bb-3dcb-4f4c-a238-dd58b095fb96",
   "metadata": {},
   "source": [
    "### Q2. Try to withdraw 10000 from Sneha’s SavingsAccount which only has 5000. What happens?\n",
    "- Hint: Savings accounts do not allow overdrafts. Look at how withdraw() is implemented in BankAccount."
   ]
  },
  {
   "cell_type": "code",
   "execution_count": 5,
   "id": "c47fa5d2-2ebe-4311-b56b-d507bdbfd6d2",
   "metadata": {},
   "outputs": [],
   "source": [
    "s_2 = SavingsAccount(2,'Sneha')"
   ]
  },
  {
   "cell_type": "code",
   "execution_count": 6,
   "id": "a4af6742-3c79-4a35-b6af-197ee1ca0c93",
   "metadata": {},
   "outputs": [
    {
     "name": "stdout",
     "output_type": "stream",
     "text": [
      "Deposited 5000. New Balance = 5000\n"
     ]
    }
   ],
   "source": [
    "s_2.deposit(5000)"
   ]
  },
  {
   "cell_type": "code",
   "execution_count": 7,
   "id": "71eb5eff-2e3d-49ac-8dd0-d45a4bda75a4",
   "metadata": {},
   "outputs": [
    {
     "data": {
      "text/plain": [
       "5000"
      ]
     },
     "execution_count": 7,
     "metadata": {},
     "output_type": "execute_result"
    }
   ],
   "source": [
    "s_2.get_balance()"
   ]
  },
  {
   "cell_type": "code",
   "execution_count": 8,
   "id": "d9b58b5a-534a-4b47-8a09-b8174c2c897b",
   "metadata": {},
   "outputs": [
    {
     "name": "stdout",
     "output_type": "stream",
     "text": [
      "Insufficient balance or invalid amount\n"
     ]
    }
   ],
   "source": [
    "s_2.withdraw(10000)"
   ]
  },
  {
   "cell_type": "markdown",
   "id": "9535bbff-5a00-4ec4-916c-c83dae4da0c7",
   "metadata": {},
   "source": [
    "----"
   ]
  },
  {
   "cell_type": "markdown",
   "id": "25111b0f-dc19-40d8-ac19-a7e4df576315",
   "metadata": {},
   "source": [
    "### Q3. Add interest to Arjun’s SavingsAccount with balance 10000. What will be his new balance?\n",
    "- Hint: Use the add_interest() method. Interest rate is 5% of the current balance."
   ]
  },
  {
   "cell_type": "code",
   "execution_count": 9,
   "id": "7fcea33b-2a34-4ba6-b137-9cb5f7a3d6ae",
   "metadata": {},
   "outputs": [],
   "source": [
    "s_3 = SavingsAccount(3,'Arjun')"
   ]
  },
  {
   "cell_type": "code",
   "execution_count": 10,
   "id": "09c33f04-7a99-4954-b926-cad8af1dacc8",
   "metadata": {},
   "outputs": [
    {
     "name": "stdout",
     "output_type": "stream",
     "text": [
      "Deposited 10000. New Balance = 10000\n"
     ]
    }
   ],
   "source": [
    "s_3.deposit(10000)"
   ]
  },
  {
   "cell_type": "code",
   "execution_count": 11,
   "id": "37105c74-1b54-4a13-97d0-47583d0ab636",
   "metadata": {},
   "outputs": [
    {
     "data": {
      "text/plain": [
       "10000"
      ]
     },
     "execution_count": 11,
     "metadata": {},
     "output_type": "execute_result"
    }
   ],
   "source": [
    "s_3.get_balance()"
   ]
  },
  {
   "cell_type": "code",
   "execution_count": 12,
   "id": "d6217371-cb49-4069-8085-bf5cdf5c20d7",
   "metadata": {},
   "outputs": [
    {
     "name": "stdout",
     "output_type": "stream",
     "text": [
      "Deposited 500.0. New Balance = 10500.0\n",
      "Interest 500.0 added.\n"
     ]
    }
   ],
   "source": [
    "s_3.add_interest()"
   ]
  },
  {
   "cell_type": "code",
   "execution_count": 13,
   "id": "539c053a-8db2-4dc3-bda6-19f07e1874df",
   "metadata": {},
   "outputs": [
    {
     "data": {
      "text/plain": [
       "10500.0"
      ]
     },
     "execution_count": 13,
     "metadata": {},
     "output_type": "execute_result"
    }
   ],
   "source": [
    "s_3.get_balance()"
   ]
  },
  {
   "cell_type": "markdown",
   "id": "4a669224-2cb9-47fb-8462-5c5196230475",
   "metadata": {},
   "source": [
    "----"
   ]
  },
  {
   "cell_type": "markdown",
   "id": "a271aaa8-4450-478d-bc32-df820038422a",
   "metadata": {},
   "source": [
    "### Q4. Create a CurrentAccount for Priya with 2000 and withdraw 6000. Is it allowed? Why?\n",
    "- Hint: Current accounts allow overdrafts up to -5000. Check how withdraw() in CurrentAccount is different."
   ]
  },
  {
   "cell_type": "code",
   "execution_count": 14,
   "id": "f9347aa8-a248-4b83-84eb-273088080bba",
   "metadata": {},
   "outputs": [],
   "source": [
    "c_1 = CurrentAccount(1,'Priya')"
   ]
  },
  {
   "cell_type": "code",
   "execution_count": 15,
   "id": "1ce8c655-d4dc-47b1-b2ae-64cc5ed9e9e3",
   "metadata": {},
   "outputs": [
    {
     "name": "stdout",
     "output_type": "stream",
     "text": [
      "Deposited 2000. New Balance = 2000\n"
     ]
    }
   ],
   "source": [
    "c_1.deposit(2000)"
   ]
  },
  {
   "cell_type": "code",
   "execution_count": 16,
   "id": "e34acc01-72dd-4e05-9eda-322bfe456329",
   "metadata": {},
   "outputs": [
    {
     "name": "stdout",
     "output_type": "stream",
     "text": [
      "Invalid deposit amount\n",
      "Withdrawn 6000 using overdraft facility.\n"
     ]
    }
   ],
   "source": [
    "c_1.withdraw(6000)"
   ]
  },
  {
   "cell_type": "markdown",
   "id": "be871f65-17fc-4009-8705-ce80545dc5ec",
   "metadata": {},
   "source": [
    "----"
   ]
  },
  {
   "cell_type": "markdown",
   "id": "7325aff0-b30a-4b44-a5df-bb75c9c9f7dc",
   "metadata": {},
   "source": [
    "### Q5. Try to directly access __balance of Meera’s account outside the class. What error do you get?\n",
    "- Hint: Remember that variables with __ (double underscores) are private and use name mangling."
   ]
  },
  {
   "cell_type": "code",
   "execution_count": 17,
   "id": "8d68772e-f9d7-4a9b-a890-c85e54caab86",
   "metadata": {},
   "outputs": [],
   "source": [
    "b_1 = BankAccount(1,'Meera',1000)"
   ]
  },
  {
   "cell_type": "code",
   "execution_count": 18,
   "id": "28976f17-3cc2-4fb0-acd5-0b3599ab5545",
   "metadata": {},
   "outputs": [
    {
     "ename": "AttributeError",
     "evalue": "'BankAccount' object has no attribute '__balance'",
     "output_type": "error",
     "traceback": [
      "\u001b[1;31m---------------------------------------------------------------------------\u001b[0m",
      "\u001b[1;31mAttributeError\u001b[0m                            Traceback (most recent call last)",
      "Cell \u001b[1;32mIn[18], line 1\u001b[0m\n\u001b[1;32m----> 1\u001b[0m b_1\u001b[38;5;241m.\u001b[39m__balance()\n",
      "\u001b[1;31mAttributeError\u001b[0m: 'BankAccount' object has no attribute '__balance'"
     ]
    }
   ],
   "source": [
    "b_1.__balance()"
   ]
  },
  {
   "cell_type": "code",
   "execution_count": 19,
   "id": "f25f7f37-1a34-4c4e-802f-1e847fca0382",
   "metadata": {},
   "outputs": [
    {
     "name": "stdout",
     "output_type": "stream",
     "text": [
      "__balance is a private access modifierr\n",
      "So it throws an error\n"
     ]
    }
   ],
   "source": [
    "print('__balance is a private access modifierr')\n",
    "print('So it throws an error')"
   ]
  },
  {
   "cell_type": "markdown",
   "id": "4f9298bc-1a6f-4ac6-8e96-42527787c579",
   "metadata": {},
   "source": [
    "----"
   ]
  },
  {
   "cell_type": "markdown",
   "id": "54fdeb1a-0df0-4227-9861-b2d877c8d309",
   "metadata": {},
   "source": [
    "### Q6. Which OOPS concept is shown when withdraw() behaves differently for SavingsAccount (Ravi) and CurrentAccount (Priya)?\n",
    "- Hint: Same method name, different behavior → This is a classic OOPS principle."
   ]
  },
  {
   "cell_type": "code",
   "execution_count": 20,
   "id": "15392455-3ac7-42a7-9a42-7c76ecca6360",
   "metadata": {},
   "outputs": [
    {
     "name": "stdout",
     "output_type": "stream",
     "text": [
      "Withdrawn 500 . New Balance = 1500\n"
     ]
    }
   ],
   "source": [
    "s_1.withdraw(500)"
   ]
  },
  {
   "cell_type": "code",
   "execution_count": 21,
   "id": "663bbaa5-057f-464f-a8dc-ceeb3fb75b18",
   "metadata": {},
   "outputs": [
    {
     "name": "stdout",
     "output_type": "stream",
     "text": [
      "Invalid deposit amount\n",
      "Withdrawn 500 using overdraft facility.\n"
     ]
    }
   ],
   "source": [
    "c_1.withdraw(500)"
   ]
  },
  {
   "cell_type": "code",
   "execution_count": null,
   "id": "9fc67658-8aab-4a39-a6f2-afa8b81a2374",
   "metadata": {},
   "outputs": [],
   "source": []
  }
 ],
 "metadata": {
  "kernelspec": {
   "display_name": "Python 3 (ipykernel)",
   "language": "python",
   "name": "python3"
  },
  "language_info": {
   "codemirror_mode": {
    "name": "ipython",
    "version": 3
   },
   "file_extension": ".py",
   "mimetype": "text/x-python",
   "name": "python",
   "nbconvert_exporter": "python",
   "pygments_lexer": "ipython3",
   "version": "3.13.5"
  }
 },
 "nbformat": 4,
 "nbformat_minor": 5
}
